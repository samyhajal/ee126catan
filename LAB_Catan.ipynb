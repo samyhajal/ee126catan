{
 "cells": [
  {
   "cell_type": "markdown",
   "metadata": {},
   "source": [
    "# Lab 5 (Part 3) - Settlers of Catan\n",
    "\n",
    "#### Authors:\n",
    "\n",
    "v1.0 (2016 Spring) David Marn, Ashvin Nair, Kabir Chandrasekher, Tony Duan, Kangwook Lee, Kannan Ramchandran\n",
    "\n",
    "## Introduction\n",
    "The goal of the game is to get $10$ victory points as fast as possible. To get these points, the player must choose a wise trade-off between spending resources to potentially obtain points and upgrading their modes of production. You, the chieftain of the island, must decide where and when to build additional <font color=purple>settlements</font> on the island to boost your resource production and give you a victory point. Alternatively, you can invest into development cards, which will bring you only a victory point, or upgrade a settlement into a <font color=blue>city</font> which doubles production and gives you another victory point. A village must border on a resource field in order to harvest its resources. We will have three different terrains: forests, which produce <font color=brown>wood</font>, hills which produce <font color=red>brick</font>, and fields of <font color=gray>grain</font> (grain). Every turn, we roll two dice and record the sum $X$. The settlements that are next to the tile that is labelled with $X$ get one resource from that field, and we keep collecting resources and building up to 10 victory points.\n",
    "\n",
    "## Game layout\n",
    "\n",
    "Our modified Catan board is drawn below.\n",
    "\n",
    "Tiles are color coded with the resource they produce: <font color=brown>wood</font>, <font color=red>brick</font>, <font color=green>grain</font>.\n",
    "\n",
    "You build <font color=purple>settlements</font> and <font color=blue>cities</font> on vertices of the board. The small purple square is a settlement, labeled \"1\" because it gives you one resource of the surrounding tiles when the corresponding number is rolled. The small blue square is a city and gives you 2 resources from surrounding tiles."
   ]
  },
  {
   "cell_type": "code",
   "execution_count": 16,
   "metadata": {
    "collapsed": false
   },
   "outputs": [
    {
     "name": "stdout",
     "output_type": "stream",
     "text": [
      "6\n"
     ]
    }
   ],
   "source": [
    "import numpy as np\n",
    "from catan import Catan, CatanException, get_random_dice_arrangement, Player, simulate_game\n",
    "import matplotlib.pyplot as plt\n",
    "from itertools import repeat\n",
    "%matplotlib inline\n",
    "width, height = 3, 3\n",
    "dice = get_random_dice_arrangement(width, height)\n",
    "resources = np.random.randint(0, 3, (height, width))\n",
    "board = Catan(dice, resources, [5], [10])\n",
    "\n",
    "print board.get_vertex_number(2, 1)"
   ]
  },
  {
   "cell_type": "code",
   "execution_count": 12,
   "metadata": {
    "collapsed": false
   },
   "outputs": [
    {
     "data": {
      "image/png": "[encoded data removed]",
      "text/plain": [
       "<matplotlib.figure.Figure at 0x112d21510>"
      ]
     },
     "metadata": {},
     "output_type": "display_data"
    }
   ],
   "source": [
    "board.draw()"
   ]
  },
  {
   "cell_type": "markdown",
   "metadata": {},
   "source": [
    "\n",
    "## Rules\n",
    "When implementing the game, remember to follow these rules:\n",
    "<ul>\n",
    "<li> Every turn you roll 2 dice, call the sum X </li>\n",
    "<li> Find tiles labeled with the number X and collect one of that resource for every settlement and two of that resource for every city on a vertex of that tile (this logic is implemented for you already) </li>\n",
    "<li> You can never have more than 4 of any resource: if you get extra, you just keep 4 </li>\n",
    "<li> You can trade 4 resources of the same kind for a resource of your choice (i.e. 4 grain for 1 wood) </li>\n",
    "<li> You can build by paying resources according to the costs below, and building anything gives you 1 victory point </li>\n",
    "<li> You start the game off with 4 of each resource and no buildings\n",
    "</ul>\n",
    "\n",
    "## Costs\n",
    "You can build villages, which boost your production (but bring no victory points), or buy development cards which can bring you an additional victory point.\n",
    "\n",
    "The costs are given below, and stored in the array costs for convenience."
   ]
  },
  {
   "cell_type": "code",
   "execution_count": 3,
   "metadata": {
    "collapsed": false
   },
   "outputs": [
    {
     "data": {
      "text/html": [
       "<table border=\"1\" class=\"dataframe\">\n",
       "  <thead>\n",
       "    <tr style=\"text-align: right;\">\n",
       "      <th></th>\n",
       "      <th>wood</th>\n",
       "      <th>brick</th>\n",
       "      <th>grain</th>\n",
       "    </tr>\n",
       "  </thead>\n",
       "  <tbody>\n",
       "    <tr>\n",
       "      <th>settlement</th>\n",
       "      <td>2</td>\n",
       "      <td>3</td>\n",
       "      <td>1</td>\n",
       "    </tr>\n",
       "    <tr>\n",
       "      <th>card</th>\n",
       "      <td>1</td>\n",
       "      <td>1</td>\n",
       "      <td>2</td>\n",
       "    </tr>\n",
       "    <tr>\n",
       "      <th>city</th>\n",
       "      <td>4</td>\n",
       "      <td>2</td>\n",
       "      <td>2</td>\n",
       "    </tr>\n",
       "  </tbody>\n",
       "</table>"
      ],
      "text/plain": [
       "<IPython.core.display.HTML object>"
      ]
     },
     "execution_count": 3,
     "metadata": {},
     "output_type": "execute_result"
    }
   ],
   "source": [
    "import numpy as np\n",
    "import pandas as pd\n",
    "import matplotlib.pyplot as plt\n",
    "\n",
    "costs = np.array([[2, 3, 1],\n",
    "                  [1, 1, 2],\n",
    "                  [4, 2, 2]])\n",
    "\n",
    "resources = ['wood', 'brick', 'grain']\n",
    "buildings = ['settlement', 'card', 'city']\n",
    "df = pd.DataFrame(costs, index=buildings, columns=resources)\n",
    "html = df.to_html()\n",
    "from IPython.core.display import HTML\n",
    "HTML(html)"
   ]
  },
  {
   "cell_type": "markdown",
   "metadata": {},
   "source": [
    "The Catan board is implemented for you, with utilities to draw and get a table of resources gained. In particular you will find these two functions useful:\n",
    "\n",
    " \n",
    "Here's a short API of the classes and methods implemented in catan.py (which you're encouraged to check out):\n",
    "\n",
    "#### BOARD CLASS\n",
    "\n",
    "To initialize a board: \n",
    "`board = Catan(dice, resources, settlements, cities)`\n",
    "\n",
    "The constructor initializes our Catan board. Dice and resources must be the same shape: HxW where H is the height of the board and W is the width. dice[i,j] is the dice number that tile corresponds to (each element between 2-12 inclusive) and resources[i,j] is the resource that tile  provides. Settlements is a list of vertices with settlements on them, and likewise for cities.\n",
    "\n",
    "`board.build(x,y,building)`\n",
    "takes in two coordinates, x and y, along with a building type (\"city\"/\"settlement\") and builds that building at the specified location. If the building cannot be built at that location, an exception is thrown.\n",
    "\n",
    "`board.if_can_build(building,x,y)`\n",
    "returns False if a building cannot be build at that stop. Otherwise, it returns True.\n",
    "\n",
    "`board.get_resources()`\n",
    "returns a 11x3 numpy array of resources gained for each possible dice sum. That is, r[i, :] = resources gained from throwing a (i+2).\n",
    "\n",
    "`board.draw()`\n",
    "draws the board\n",
    "\n",
    "\n",
    "#### PLAYER CLASS\n",
    "\n",
    "`player = Player(action,board,resources,points=0,turn_counter=0)`\n",
    "Where a board is a Catan board, an action is a function, resources is an array, points and turn_counter are integers used for debugging.\n",
    "\n",
    "`player.if_can_buy(item)` \n",
    "returns True if the player can afford item (\"card\"/\"settlement\"/\"city\") and False otherwise\n",
    "\n",
    "`player.buy(item)` \n",
    "actually buys the item and throws a CatanException if that is not possible.\n",
    "\n",
    "`player.play_round()` \n",
    "plays one round of Catan: rolls the dice, collects the resources and calls the function action()"
   ]
  },
  {
   "cell_type": "code",
   "execution_count": 4,
   "metadata": {
    "collapsed": false
   },
   "outputs": [
    {
     "name": "stdout",
     "output_type": "stream",
     "text": [
      "[[ 2.  0.  0.]\n",
      " [ 0.  0.  0.]\n",
      " [ 0.  2.  0.]\n",
      " [ 0.  0.  2.]\n",
      " [ 0.  0.  1.]\n",
      " [ 0.  1.  0.]\n",
      " [ 0.  0.  3.]\n",
      " [ 1.  0.  0.]\n",
      " [ 0.  0.  0.]\n",
      " [ 0.  0.  0.]\n",
      " [ 0.  0.  0.]]\n"
     ]
    },
    {
     "data": {
      "image/png": "[encoded data removed]",
      "text/plain": [
       "<matplotlib.figure.Figure at 0x10624e290>"
      ]
     },
     "metadata": {},
     "output_type": "display_data"
    }
   ],
   "source": [
    "board.draw()\n",
    "print board.get_resources()\n",
    "# wood is brown, brick is red, grain is green\n",
    "# below is the resource outcome of a dice roll"
   ]
  },
  {
   "cell_type": "markdown",
   "metadata": {},
   "source": [
    "Below are a few more utility functions you may use to handle converting state triplets into integers."
   ]
  },
  {
   "cell_type": "code",
   "execution_count": 5,
   "metadata": {
    "collapsed": false
   },
   "outputs": [],
   "source": [
    "# hand = (w, b, g)\n",
    "LIMIT = 5 # can have 0-4 of each resource\n",
    "\n",
    "def encode(w, b, g):\n",
    "    return LIMIT * LIMIT * w + LIMIT * b + g\n",
    "\n",
    "def decode(n):\n",
    "    x = n % (LIMIT * LIMIT)\n",
    "    return (n // (LIMIT * LIMIT), x // LIMIT, x % LIMIT)"
   ]
  },
  {
   "cell_type": "code",
   "execution_count": 6,
   "metadata": {
    "collapsed": true
   },
   "outputs": [],
   "source": [
    "l = np.array((LIMIT-1, LIMIT-1, LIMIT-1))\n",
    "def floor(state):\n",
    "    return np.minimum(l, state)"
   ]
  },
  {
   "cell_type": "markdown",
   "metadata": {},
   "source": [
    "## Optimal Actions\n",
    "\n",
    "Below is a \"policy\" for acting on the board: given the board (self.board) and current resources, the function returns your action this turn."
   ]
  },
  {
   "cell_type": "code",
   "execution_count": 7,
   "metadata": {
    "collapsed": false
   },
   "outputs": [
    {
     "ename": "IndentationError",
     "evalue": "expected an indented block (<ipython-input-7-5ac06086fd3b>, line 22)",
     "output_type": "error",
     "traceback": [
      "\u001b[0;36m  File \u001b[0;32m\"<ipython-input-7-5ac06086fd3b>\"\u001b[0;36m, line \u001b[0;32m22\u001b[0m\n\u001b[0;31m    num_trials = 100\u001b[0m\n\u001b[0m             ^\u001b[0m\n\u001b[0;31mIndentationError\u001b[0m\u001b[0;31m:\u001b[0m expected an indented block\n"
     ]
    }
   ],
   "source": [
    "# sample strategy function     \n",
    "\n",
    "def action(self, resources, costs):\n",
    "    # inputs:\n",
    "    # resources - an array of resources\n",
    "    # costs - an array of costs, 0 - settlement, 1 - card, 2 - city\n",
    "    # basic strategy: Once we get 4 of one resource and less than 2 of any other, we make a trade. \n",
    "    # Then we try to buy development cards\n",
    "#     if self.board.settlements == []:\n",
    "#         x = np.random.randint(0, self.board.width + 1)\n",
    "#         y = np.random.randint(0, self.board.height + 1)\n",
    "#         self.board.build(x, y, \"settlement\")\n",
    "#     if self.if_can_buy(\"card\"):\n",
    "#         self.buy(\"card\")\n",
    "#     elif self.resources[np.argmax(self.resources)] >= 4 and self.resources[np.argmin(self.resources)] < 2:\n",
    "#         rmax, rmin = np.argmax(self.resources), np.argmin(self.resources)\n",
    "#         self.resources[rmax] -= 4\n",
    "#         self.resources[rmin] += 1\n",
    "#     return\n",
    "    \n",
    "\n",
    "num_trials = 100\n",
    "print simulate_game(action, board, num_trials)"
   ]
  },
  {
   "cell_type": "code",
   "execution_count": 19,
   "metadata": {
    "collapsed": true
   },
   "outputs": [],
   "source": [
    "def expectedTime(board, building):\n",
    "    ### your code here\n",
    "    costs = np.array([[2, 3, 1],\n",
    "                  [1, 1, 2],\n",
    "                  [4, 2, 2]])\n",
    "    resources = board.get_resources()\n",
    "    probabilities = [1.0/36, 2.0/36, 3.0/36, 4.0/36, 5.0/36, 6.0/36, 5.0/36, 4.0/36, 3.0/36, 2.0/36, 1.0/36]\n",
    "    expectations = [0, 0, 0]\n",
    "    for i in range(3):\n",
    "        for j in range(11):\n",
    "            expectations[i] += float(probabilities[j])*float(resources[j][i])\n",
    "    needed = costs[building]\n",
    "    #print(\"needed: \")\n",
    "    #print(needed)\n",
    "    #print(\"expectations: \")\n",
    "    #print(expectations)\n",
    "    minimum = float(\"inf\")\n",
    "    best = [0,0,0]\n",
    "    def helper(index, implicit):\n",
    "        if index==implicit:\n",
    "            return float(needed[index])\n",
    "        else:\n",
    "            return float(needed[index])*4.0\n",
    "    for i in range(3):\n",
    "        for j in range(3):\n",
    "            for k in range(3):\n",
    "                if expectations[i]==0 or expectations[j]==0 or expectations[k]==0:\n",
    "                    continue\n",
    "                if i==j and j==k:\n",
    "                    x = helper(i, 0)/expectations[i] + helper(j, 1)/expectations[j] + helper(k, 2)/expectations[k]\n",
    "                elif i==j:\n",
    "                    x = max(helper(i,0)/expectations[i]+helper(j,1)/expectations[j], helper(k,2)/expectations[k])\n",
    "                elif j==k:\n",
    "                    x = max(helper(k,2)/expectations[k]+helper(j,1)/expectations[j], helper(i,0)/expectations[i])\n",
    "                elif i==k:\n",
    "                    x = max(helper(i,0)/expectations[i]+helper(k,2)/expectations[k], helper(j,1)/expectations[j])\n",
    "                else:\n",
    "                    x = max(helper(i,0)/expectations[i], helper(j,1)/expectations[j], helper(k,2)/expectations[k])\n",
    "                if x < minimum:\n",
    "                    minimum = x\n",
    "                    best = [i,j,k]\n",
    "    #print(\"best: \")\n",
    "    #print(best)\n",
    "    return (minimum)"
   ]
  },
  {
   "cell_type": "code",
   "execution_count": 56,
   "metadata": {
    "collapsed": false
   },
   "outputs": [
    {
     "name": "stdout",
     "output_type": "stream",
     "text": [
      "checking settlement\n",
      "[6, 0]\n",
      "checking settlement\n",
      "[6, 10]\n",
      "checking settlement\n",
      "[6, 15]\n",
      "checking settlement\n",
      "[6, 16]\n",
      "checking settlement\n",
      "[6, 2]\n",
      "checking settlement\n",
      "[6, 12]\n",
      "checking settlement\n",
      "[6, 17]\n",
      "checking settlement\n",
      "[6, 3]\n",
      "checking settlement\n",
      "[6, 8]\n",
      "checking settlement\n",
      "[6, 13]\n",
      "checking settlement\n",
      "[6, 18]\n",
      "(3, 1)\n"
     ]
    },
    {
     "data": {
      "image/png": "[encoded data removed]",
      "text/plain": [
       "<matplotlib.figure.Figure at 0x11304f450>"
      ]
     },
     "metadata": {},
     "output_type": "display_data"
    }
   ],
   "source": [
    "def settlementStrategy(board, building):\n",
    "    # self - the catan player instance\n",
    "    #     if_can_buy(item) -- returns boolean if you can buy item. Item = {\"card\", \"settlement\", \"city\"}\n",
    "    #     buy(item) -- buys item. Item = {\"card\", \"settlement\", \"city\"}\n",
    "    #     play_round() -- plays a round of catan and returns the dice roll and increments your resources\n",
    "    # resources - the amount of resources you have at a given turn\n",
    "    # costs - a 3x3 array\n",
    "    #     row 0 is cost for settlement, 2 wood, 3 brick, 1 grain\n",
    "    #     row 1 is cost for card, 1 wood, 1 brick, 2 grain\n",
    "    #     row 2 is cost for city, 4 wood, 2 brick, 2 grain\n",
    "    # Returns: This strategy returns where it would be most optimal to build\n",
    "    if building == 1:\n",
    "        return \"DON'T PASS IN A DEVELOPMENT CARD BITCH\"\n",
    "    bestScore = float(\"inf\")\n",
    "    bestIndex = (0,0)\n",
    "    for i in range(0, board.width):\n",
    "        for j in range(0, board.height):\n",
    "            if board.if_can_build(building, i,j) and building == 0:\n",
    "                print \"checking settlement\"\n",
    "                newlst = board.settlements + [board.get_vertex_number(i,j)]\n",
    "                testBoard = Catan(board.dice, board.resources, newlst, board.cities)\n",
    "                print newlst\n",
    "                testScore = expectedTime(testBoard, building) # next thing we build will be a settlement \n",
    "                if testScore < bestScore:\n",
    "                    bestScore = testScore\n",
    "                    bestIndex = (i,j)\n",
    "            elif board.if_can_build(building, i,j)and building == 2:\n",
    "                print \"checking city\"\n",
    "                newlst = board.cities + [board.get_vertex_number(i,j)]\n",
    "                testBoard = Catan(board.dice, board.resources, board.settlements, newlst)\n",
    "                print newlst\n",
    "                testScore = expectedTime(testBoard, building) # next thing we build will be a settlement \n",
    "                if testScore < bestScore:\n",
    "                    bestScore = testScore\n",
    "                    bestIndex = (i,j)\n",
    "    return bestIndex\n",
    "\n",
    "num_trials = 100\n",
    "dice = get_random_dice_arrangement(4, 4)\n",
    "resources = np.random.randint(0, 3, (4, 4))\n",
    "myBoard = Catan(dice, resources, [6], [])\n",
    "myBoard.draw()\n",
    "print settlementStrategy(myBoard, 0)\n",
    "\n"
   ]
  },
  {
   "cell_type": "markdown",
   "metadata": {},
   "source": [
    "Experiment with your own action function, simulate the results and try to come up with a good one... then report your expected time to win and simulation results using this policy."
   ]
  },
  {
   "cell_type": "markdown",
   "metadata": {},
   "source": [
    "##  <font color=blue> Efficient Optimization [OPTIONAL] </font>"
   ]
  },
  {
   "cell_type": "markdown",
   "metadata": {},
   "source": [
    "In the final phase of the project, use the tools you wrote above to figure out the best action sequence to minimize the time until you reach 10 points. To make our calculations tractable we can compute something a little different than finding the optimum action over all actions and all possible game states. Instead, we can reduce the goal at any given moment to building the _next_ objective. In this framework, we need to minimize the expected time from having no resources to building each objective. The below questions are optional but we recommend doing it to see the topics we cover in class from a computing point of view, and it can be part of your \"extension\" to the project."
   ]
  },
  {
   "cell_type": "markdown",
   "metadata": {
    "collapsed": true
   },
   "source": [
    "### <font color=blue> 1. Create a function `get_transition_matrix` which returns the transition matrix of your Markov chain. </font>"
   ]
  },
  {
   "cell_type": "code",
   "execution_count": 48,
   "metadata": {
    "collapsed": false
   },
   "outputs": [
    {
     "name": "stdout",
     "output_type": "stream",
     "text": [
      "[ 0.]\n"
     ]
    }
   ],
   "source": [
    "def transition_matrix(board):\n",
    "    \"\"\"returns matrix T[i, j] = P(transition from state i to state j)\"\"\"\n",
    "    ### Fill in your solution here\n",
    "    LIMIT = 5\n",
    "#     width = LIMIT**3\n",
    "#     T = np.zeros((width,width))\n",
    "#     for i in range(width):\n",
    "#         for j in range(width):\n",
    "    return np.zeros(1)\n",
    "            \n",
    "    \n",
    "\n",
    "T = transition_matrix(board)\n",
    "print T"
   ]
  },
  {
   "cell_type": "markdown",
   "metadata": {},
   "source": [
    "##  <font color=blue> Calculating Hitting Time</font>\n",
    "\n",
    "Let's start by building a useful function to answer the question: given a board layout and starting resources, how long will it take until you can afford a specific building?\n",
    "\n",
    "Hint: one method would be to create another Markov chain/transition matrix where the hitting time between two of the states gives the time until you can afford a building."
   ]
  },
  {
   "cell_type": "markdown",
   "metadata": {},
   "source": [
    "### <font color=blue> 2a. Write a function to calculate mean hitting time from 0 resources until you can afford a building."
   ]
  },
  {
   "cell_type": "code",
   "execution_count": 9,
   "metadata": {
    "collapsed": false
   },
   "outputs": [
    {
     "name": "stdout",
     "output_type": "stream",
     "text": [
      "[1 1 2]\n",
      "[0.16666666666666666, 0.3333333333333333, 0.7777777777777778]\n",
      "1.55555555556\n"
     ]
    }
   ],
   "source": [
    "def hitting_time(board, building):\n",
    "    ### your code here\n",
    "    costs = np.array([[2, 3, 1],\n",
    "                  [1, 1, 2],\n",
    "                  [4, 2, 2]])\n",
    "    resources = board.get_resources()\n",
    "    probabilities = [1.0/36, 2.0/36, 3.0/36, 4.0/36, 5.0/36, 6.0/36, 5.0/36, 4.0/36, 3.0/36, 2.0/36, 1.0/36]\n",
    "    expectations = [0, 0, 0]\n",
    "    for i in range(3):\n",
    "        for j in range(11):\n",
    "            expectations[i] += float(probabilities[j])*float(resources[j][i])\n",
    "    needed = costs[building]\n",
    "    results = [0,0,0]\n",
    "    print(needed)\n",
    "    print(expectations)\n",
    "    for i in range(3):\n",
    "        if expectations[i] == 0:\n",
    "            results[i] = min(expectations[(i+1)%3]*4*needed[i]+expectations[i])\n",
    "        results[i] = needed[i]*expectations[i]\n",
    "    return max(results)\n",
    "    \n",
    "h = hitting_time(board, 1) # calculates time until we can afford a VP card\n",
    "print h"
   ]
  },
  {
   "cell_type": "markdown",
   "metadata": {},
   "source": [
    "### <font color=blue> 2b. Simulate the Markov process and record the expected hitting time to states to check the accuracy of your hitting time function. </font>"
   ]
  },
  {
   "cell_type": "code",
   "execution_count": null,
   "metadata": {
    "collapsed": false
   },
   "outputs": [],
   "source": [
    "# simulator goes here\n"
   ]
  },
  {
   "cell_type": "markdown",
   "metadata": {},
   "source": [
    "Now you can minimize total expected hitting time with your policy using your hitting time function to speed up the optimization instead of simulating everything."
   ]
  }
 ],
 "metadata": {
  "kernelspec": {
   "display_name": "Python 2",
   "language": "python",
   "name": "python2"
  },
  "language_info": {
   "codemirror_mode": {
    "name": "ipython",
    "version": 2
   },
   "file_extension": ".py",
   "mimetype": "text/x-python",
   "name": "python",
   "nbconvert_exporter": "python",
   "pygments_lexer": "ipython2",
   "version": "2.7.11"
  }
 },
 "nbformat": 4,
 "nbformat_minor": 0
}
