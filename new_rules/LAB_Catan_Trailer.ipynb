{
 "cells": [
  {
   "cell_type": "markdown",
   "metadata": {},
   "source": [
    "# Lab 5 - Settlers of Catan Trailer\n",
    "\n",
    "#### Authors:\n",
    "\n",
    "v1.0 (2016 Spring) David Marn, Ashvin Nair, Kabir Chandrasekher, Tony Duan, Kangwook Lee, Kannan Ramchandran  \n",
    "\n",
    "This trailer introduces you to a modified version of the board game \"Settlers of Catan\". If you choose to do the Catan project, you will come up with a probabilistic model of Catan and optimize a strategy to dominate opponents! _Just run through this trailer to get a preview of the project -- there is no code to write._\n",
    "\n",
    "## Introduction\n",
    "The goal of the game is to get $10$ victory points as fast as possible. To get these points, the player must choose a wise trade-off between spending resources to potentially obtain points and upgrading their modes of production. You, the chieftain of the island, must decide where and when to build additional <font color=purple>settlements</font> on the island to boost your resource production. Alternatively, you can invest into development cards, which will bring you a victory point, or upgrade a settlement into a <font color=blue>city</font> which doubles production and gives you another victory point. A village must border on a resource field in order to harvest its resources. We will have three different terrains: forests, which produce <font color=brown>wood</font>, hills which produce <font color=red>brick</font>, fields of <font color=gray>grain</font> (grain), sheep (white) and ore (blue). Every turn, we roll two dice and record the sum $X$. The settlements that are next to the tile that is labelled with $X$ get one resource from that field, and we keep collecting resources and building up to 10 victory points.\n",
    "\n",
    "## Game layout\n",
    "\n",
    "Our modified Catan board is drawn below.\n",
    "\n",
    "Tiles are color coded with the resource they produce: <font color=brown>wood</font>, <font color=red>brick</font>, <font color=green>grain</font>, <font color=grey>sheep</font>, <font color=blue>ore</font>.\n",
    "\n",
    "You build <font color=purple>settlements</font> and <font color=blue>cities</font> on vertices of the board. The small green square is a settlement, labeled \"1\" because it gives you one resource of the surrounding tiles when the corresponding number is rolled. The small blue square is a city and gives you 2 resources from surrounding tiles."
   ]
  },
  {
   "cell_type": "code",
   "execution_count": 1,
   "metadata": {
    "collapsed": false
   },
   "outputs": [],
   "source": [
    "import numpy as np\n",
    "from catan import Catan, CatanException, get_random_dice_arrangement, Player, simulate_game, simulate_game_and_save\n",
    "import matplotlib.pyplot as plt\n",
    "from itertools import repeat\n",
    "%matplotlib inline\n",
    "width, height = 3, 3\n",
    "dice = get_random_dice_arrangement(width, height)\n",
    "count = np.array([])\n",
    "while 0 in count or count.shape[0] != 5:\n",
    "    resources = np.random.randint(0, 5, (height, width))\n",
    "    count = np.bincount(np.reshape(resources, (1, resources.shape[0] * resources.shape[1]))[0])\n",
    "board = Catan(dice, resources, [5, 6], [10], [(5, 6), (6, 10)])"
   ]
  },
  {
   "cell_type": "code",
   "execution_count": 2,
   "metadata": {
    "collapsed": false
   },
   "outputs": [
    {
     "data": {
      "image/png": "[encoded data removed]",
      "text/plain": [
       "<matplotlib.figure.Figure at 0x10cfb0510>"
      ]
     },
     "metadata": {},
     "output_type": "display_data"
    }
   ],
   "source": [
    "board.draw()"
   ]
  },
  {
   "cell_type": "markdown",
   "metadata": {},
   "source": [
    "\n",
    "## Rules\n",
    "When implementing the game, remember to follow these rules:\n",
    "<ul>\n",
    "<li> Every turn you roll 2 dice, call the sum X </li>\n",
    "<li> Find the tiles labeled with the number X and collect one of that resource for every settlement and two of that resource for every city on a vertex of that tile </li>\n",
    "<li> You can never have more than 4 of any resource: if you get extra, you just keep 4 </li>\n",
    "<li> You can build by paying resources according to the costs below, and building anything gives you 1 victory point </li>\n",
    "<li> You can only build roads that start from a settlement or city </li>\n",
    "<li> You can only build a settlement if it located on a road (except for the first settlement) </li>\n",
    "</ul>\n",
    "\n",
    "## Costs\n",
    "You can build villages, which boost your production (but bring no victory points), or buy development cards which can bring you an additional victory point.\n",
    "\n",
    "The costs are given below, and stored in the array costs for convenience."
   ]
  },
  {
   "cell_type": "code",
   "execution_count": 15,
   "metadata": {
    "collapsed": false
   },
   "outputs": [
    {
     "data": {
      "text/html": [
       "<table border=\"1\" class=\"dataframe\">\n",
       "  <thead>\n",
       "    <tr style=\"text-align: right;\">\n",
       "      <th></th>\n",
       "      <th>wood</th>\n",
       "      <th>brick</th>\n",
       "      <th>grain</th>\n",
       "      <th>sheep</th>\n",
       "      <th>ore</th>\n",
       "    </tr>\n",
       "  </thead>\n",
       "  <tbody>\n",
       "    <tr>\n",
       "      <th>settlement</th>\n",
       "      <td>2</td>\n",
       "      <td>3</td>\n",
       "      <td>1</td>\n",
       "      <td>1</td>\n",
       "      <td>1</td>\n",
       "    </tr>\n",
       "    <tr>\n",
       "      <th>card</th>\n",
       "      <td>2</td>\n",
       "      <td>2</td>\n",
       "      <td>2</td>\n",
       "      <td>0</td>\n",
       "      <td>1</td>\n",
       "    </tr>\n",
       "    <tr>\n",
       "      <th>city</th>\n",
       "      <td>4</td>\n",
       "      <td>2</td>\n",
       "      <td>2</td>\n",
       "      <td>2</td>\n",
       "      <td>2</td>\n",
       "    </tr>\n",
       "    <tr>\n",
       "      <th>road</th>\n",
       "      <td>1</td>\n",
       "      <td>3</td>\n",
       "      <td>1</td>\n",
       "      <td>0</td>\n",
       "      <td>0</td>\n",
       "    </tr>\n",
       "  </tbody>\n",
       "</table>"
      ],
      "text/plain": [
       "<IPython.core.display.HTML object>"
      ]
     },
     "execution_count": 15,
     "metadata": {},
     "output_type": "execute_result"
    }
   ],
   "source": [
    "import numpy as np\n",
    "import pandas as pd\n",
    "\n",
    "costs = np.array([[2, 3, 1, 1, 1],\n",
    "                  [2, 2, 2, 0, 1],\n",
    "                  [4, 2, 2, 2, 2],\n",
    "                  [1, 3, 1, 0, 0]])\n",
    "\n",
    "resources = ['wood', 'brick', 'grain', 'sheep', 'ore']\n",
    "buildings = ['settlement', 'card', 'city', 'road']\n",
    "df = pd.DataFrame(costs, index=buildings, columns=resources)\n",
    "html = df.to_html()\n",
    "from IPython.core.display import HTML\n",
    "HTML(html)"
   ]
  },
  {
   "cell_type": "markdown",
   "metadata": {},
   "source": [
    "##  <font color=blue>$\\mathcal{Q}$1. Learning the Game</font>"
   ]
  },
  {
   "cell_type": "markdown",
   "metadata": {},
   "source": [
    "The Catan board is implemented for you, with utilities to draw and get a table of resources gained. In particular you will find these two functions useful:\n",
    "\n",
    "`board = Catan(dice, resources, settlements, cities)`\n",
    "\n",
    "The constructor initializes our Catan board. Dice and resources must be the same shape: HxW where H is the height of the board and W is the width. dice[i,j] is the dice number that tile corresponds to (each element between 2-12 inclusive) and resources[i,j] is the resource that tile  provides. Settlements is a list of vertices with settlements on them, and likewise for cities.\n",
    "\n",
    "`board.get_resources()`\n",
    "\n",
    "This returns a 11x5 numpy array of resources gained for each possible dice sum. That is, r[i, :] = resources gained from throwing a (i+2)."
   ]
  },
  {
   "cell_type": "code",
   "execution_count": 4,
   "metadata": {
    "collapsed": false
   },
   "outputs": [
    {
     "name": "stdout",
     "output_type": "stream",
     "text": [
      "[[ 1.  0.  0.  0.  0.]\n",
      " [ 0.  0.  1.  0.  0.]\n",
      " [ 0.  0.  4.  0.  0.]\n",
      " [ 0.  0.  0.  0.  0.]\n",
      " [ 0.  0.  0.  2.  0.]\n",
      " [ 0.  0.  0.  0.  2.]\n",
      " [ 0.  1.  0.  0.  0.]\n",
      " [ 0.  0.  0.  0.  3.]\n",
      " [ 0.  2.  0.  0.  0.]\n",
      " [ 0.  0.  0.  0.  0.]\n",
      " [ 0.  0.  0.  0.  0.]]\n",
      "3 3\n"
     ]
    },
    {
     "data": {
      "image/png": "[encoded data removed]",
      "text/plain": [
       "<matplotlib.figure.Figure at 0x10cfb0e90>"
      ]
     },
     "metadata": {},
     "output_type": "display_data"
    }
   ],
   "source": [
    "board.draw()\n",
    "print board.get_resources()\n",
    "print board.height, board.width\n",
    "# wood is brown, brick is red, grain is green\n",
    "# below is the resource outcome of a dice roll"
   ]
  },
  {
   "cell_type": "markdown",
   "metadata": {},
   "source": [
    "## Game Simulation\n",
    "\n",
    "Run the code below to see a game in action! This will use our (bad) sample policy."
   ]
  },
  {
   "cell_type": "code",
   "execution_count": 6,
   "metadata": {
    "collapsed": false
   },
   "outputs": [
    {
     "name": "stdout",
     "output_type": "stream",
     "text": [
      "1252.39\n"
     ]
    }
   ],
   "source": [
    "# sample action function\n",
    "def action(self, resources, costs):\n",
    "    # inputs:\n",
    "    # resources - an array of resources\n",
    "    # costs - an array of costs, 0 - settlement, 1 - card, 2 - city, 3 - road\n",
    "    # basic strategy: Once we get 4 of one resource and less than 2 of any other, we make a trade. \n",
    "    # Then we try to buy development cards\n",
    "    \n",
    "    if self.board.settlements == []:\n",
    "        x = np.random.randint(0, self.board.width + 1)\n",
    "        y = np.random.randint(0, self.board.height + 1)\n",
    "        self.board.build(x, y, \"settlement\")\n",
    "    if self.if_can_buy(\"card\"):\n",
    "        self.buy(\"card\")\n",
    "        return\n",
    "    if self.if_can_buy(\"settlement\"):\n",
    "        for x in range(self.board.width+1):\n",
    "            for y in range(self.board.height+1):\n",
    "                if self.board.if_can_build(\"settlement\", x, y):\n",
    "                    self.buy(\"settlement\", x, y)\n",
    "                    return\n",
    "    if self.if_can_buy(\"road\"):\n",
    "        for x in range((self.board.width+1)*(self.board.height+1) - 1):\n",
    "            for y in (x+1, x+self.board.width+1):\n",
    "                if (y > (self.board.width+1)*(self.board.height+1) - 1):\n",
    "                    continue\n",
    "                if self.board.if_can_build(\"road\", x, y):\n",
    "                    self.buy(\"road\", x, y)\n",
    "                    return\n",
    "    \n",
    "    if self.resources[np.argmax(self.resources)] >= 4 and self.resources[np.argmin(self.resources)] < 2:\n",
    "        rmax, rmin = np.argmax(self.resources), np.argmin(self.resources)\n",
    "        self.resources[rmax] -= 4\n",
    "        self.resources[rmin] += 1\n",
    "    return\n",
    "\n",
    "num_trials = 100\n",
    "print simulate_game(action, board, num_trials)"
   ]
  },
  {
   "cell_type": "code",
   "execution_count": 13,
   "metadata": {
    "collapsed": false
   },
   "outputs": [],
   "source": [
    "roads, settlements, cities, hands, live_points, dice_rolls = simulate_game_and_save(action, board)\n",
    "\n",
    "def draw(t):\n",
    "    t = int(t)\n",
    "    live_board = Catan(board.dice, board.resources, [], [], [])\n",
    "    live_board.settlements = settlements[t]\n",
    "    live_board.cities = cities[t]\n",
    "    live_board.roads = roads[t]\n",
    "    print \"turn:\", t\n",
    "    print \"points:\", live_points[t]\n",
    "    print \"dice roll:\", dice_rolls[t]\n",
    "    print \"settlements:\", settlements[t]\n",
    "    print \"roads:\", roads[t]\n",
    "    print \"resources:\", hands[t]\n",
    "    live_board.draw()"
   ]
  },
  {
   "cell_type": "code",
   "execution_count": 14,
   "metadata": {
    "collapsed": false
   },
   "outputs": [
    {
     "name": "stdout",
     "output_type": "stream",
     "text": [
      "turn: 616\n",
      "points: 10\n",
      "dice roll: 8\n",
      "settlements: [8, 4, 0, 12, 1, 5]\n",
      "roads: [(4, 8), (8, 9), (8, 12), (0, 4), (4, 5), (0, 1), (1, 2)]\n",
      "resources: [ 1.  1.  0.  0.  2.]\n"
     ]
    },
    {
     "data": {
      "text/plain": [
       "None"
      ]
     },
     "metadata": {},
     "output_type": "display_data"
    },
    {
     "data": {
      "image/png": "[encoded data removed]",
      "text/plain": [
       "<matplotlib.figure.Figure at 0x113742e10>"
      ]
     },
     "metadata": {},
     "output_type": "display_data"
    }
   ],
   "source": [
    "from IPython.html.widgets import *\n",
    "interact(draw, t=(0, len(live_points) - 1, 1))"
   ]
  },
  {
   "cell_type": "markdown",
   "metadata": {},
   "source": [
    "In the Catan project you will work on building a Markov chain for the game to analyze it formally, and calculate the expected time to build buildings. Then, you will come up with a policy to play the game and work on some creative extension of your choice.\n",
    "\n",
    "If you're choosing Catan, open up the Catan lab notebook, where we've written some skeleton code to direct you Enjoy!"
   ]
  }
 ],
 "metadata": {
  "kernelspec": {
   "display_name": "Python 2",
   "language": "python",
   "name": "python2"
  },
  "language_info": {
   "codemirror_mode": {
    "name": "ipython",
    "version": 2
   },
   "file_extension": ".py",
   "mimetype": "text/x-python",
   "name": "python",
   "nbconvert_exporter": "python",
   "pygments_lexer": "ipython2",
   "version": "2.7.10"
  }
 },
 "nbformat": 4,
 "nbformat_minor": 0
}
